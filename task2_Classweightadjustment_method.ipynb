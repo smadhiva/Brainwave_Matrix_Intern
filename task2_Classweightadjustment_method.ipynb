{
 "cells": [
  {
   "cell_type": "code",
   "execution_count": 6,
   "metadata": {},
   "outputs": [],
   "source": [
    "import pandas as pd\n",
    "\n",
    "data = pd.read_csv('fraudtrain.csv')"
   ]
  },
  {
   "cell_type": "code",
   "execution_count": 8,
   "metadata": {},
   "outputs": [
    {
     "name": "stderr",
     "output_type": "stream",
     "text": [
      "c:\\Users\\smadh\\anaconda3\\Lib\\site-packages\\sklearn\\preprocessing\\_encoders.py:868: FutureWarning: `sparse` was renamed to `sparse_output` in version 1.2 and will be removed in 1.4. `sparse_output` is ignored unless you leave `sparse` to its default value.\n",
      "  warnings.warn(\n",
      "c:\\Users\\smadh\\anaconda3\\Lib\\site-packages\\sklearn\\preprocessing\\_encoders.py:868: FutureWarning: `sparse` was renamed to `sparse_output` in version 1.2 and will be removed in 1.4. `sparse_output` is ignored unless you leave `sparse` to its default value.\n",
      "  warnings.warn(\n",
      "c:\\Users\\smadh\\anaconda3\\Lib\\site-packages\\sklearn\\preprocessing\\_encoders.py:868: FutureWarning: `sparse` was renamed to `sparse_output` in version 1.2 and will be removed in 1.4. `sparse_output` is ignored unless you leave `sparse` to its default value.\n",
      "  warnings.warn(\n",
      "c:\\Users\\smadh\\anaconda3\\Lib\\site-packages\\sklearn\\preprocessing\\_encoders.py:868: FutureWarning: `sparse` was renamed to `sparse_output` in version 1.2 and will be removed in 1.4. `sparse_output` is ignored unless you leave `sparse` to its default value.\n",
      "  warnings.warn(\n",
      "c:\\Users\\smadh\\anaconda3\\Lib\\site-packages\\sklearn\\preprocessing\\_encoders.py:868: FutureWarning: `sparse` was renamed to `sparse_output` in version 1.2 and will be removed in 1.4. `sparse_output` is ignored unless you leave `sparse` to its default value.\n",
      "  warnings.warn(\n",
      "c:\\Users\\smadh\\anaconda3\\Lib\\site-packages\\sklearn\\preprocessing\\_encoders.py:868: FutureWarning: `sparse` was renamed to `sparse_output` in version 1.2 and will be removed in 1.4. `sparse_output` is ignored unless you leave `sparse` to its default value.\n",
      "  warnings.warn(\n",
      "c:\\Users\\smadh\\anaconda3\\Lib\\site-packages\\sklearn\\preprocessing\\_encoders.py:868: FutureWarning: `sparse` was renamed to `sparse_output` in version 1.2 and will be removed in 1.4. `sparse_output` is ignored unless you leave `sparse` to its default value.\n",
      "  warnings.warn(\n",
      "c:\\Users\\smadh\\anaconda3\\Lib\\site-packages\\sklearn\\preprocessing\\_encoders.py:868: FutureWarning: `sparse` was renamed to `sparse_output` in version 1.2 and will be removed in 1.4. `sparse_output` is ignored unless you leave `sparse` to its default value.\n",
      "  warnings.warn(\n",
      "c:\\Users\\smadh\\anaconda3\\Lib\\site-packages\\sklearn\\preprocessing\\_encoders.py:868: FutureWarning: `sparse` was renamed to `sparse_output` in version 1.2 and will be removed in 1.4. `sparse_output` is ignored unless you leave `sparse` to its default value.\n",
      "  warnings.warn(\n",
      "c:\\Users\\smadh\\anaconda3\\Lib\\site-packages\\sklearn\\preprocessing\\_encoders.py:868: FutureWarning: `sparse` was renamed to `sparse_output` in version 1.2 and will be removed in 1.4. `sparse_output` is ignored unless you leave `sparse` to its default value.\n",
      "  warnings.warn(\n",
      "c:\\Users\\smadh\\anaconda3\\Lib\\site-packages\\sklearn\\preprocessing\\_encoders.py:868: FutureWarning: `sparse` was renamed to `sparse_output` in version 1.2 and will be removed in 1.4. `sparse_output` is ignored unless you leave `sparse` to its default value.\n",
      "  warnings.warn(\n",
      "c:\\Users\\smadh\\anaconda3\\Lib\\site-packages\\sklearn\\preprocessing\\_encoders.py:868: FutureWarning: `sparse` was renamed to `sparse_output` in version 1.2 and will be removed in 1.4. `sparse_output` is ignored unless you leave `sparse` to its default value.\n",
      "  warnings.warn(\n"
     ]
    },
    {
     "name": "stdout",
     "output_type": "stream",
     "text": [
      "Final sparse matrix shape: (1296675, 709)\n"
     ]
    },
    {
     "name": "stderr",
     "output_type": "stream",
     "text": [
      "c:\\Users\\smadh\\anaconda3\\Lib\\site-packages\\sklearn\\preprocessing\\_encoders.py:868: FutureWarning: `sparse` was renamed to `sparse_output` in version 1.2 and will be removed in 1.4. `sparse_output` is ignored unless you leave `sparse` to its default value.\n",
      "  warnings.warn(\n"
     ]
    }
   ],
   "source": [
    "import pandas as pd\n",
    "from sklearn.preprocessing import StandardScaler, OneHotEncoder\n",
    "from sklearn.compose import ColumnTransformer\n",
    "from scipy.sparse import csr_matrix, vstack\n",
    "\n",
    "# Function to process data in chunks and convert to sparse matrix\n",
    "def process_data_chunks(file_path, chunk_size):\n",
    "    chunks = pd.read_csv(file_path, chunksize=chunk_size)\n",
    "    sparse_chunks = []\n",
    "    \n",
    "    # Example: Initialize StandardScaler and OneHotEncoder\n",
    "    scaler = StandardScaler()\n",
    "    encoder = OneHotEncoder(handle_unknown='ignore', sparse=True)\n",
    "    \n",
    "    for chunk in chunks:\n",
    "        # Example: Perform feature engineering on each chunk\n",
    "        chunk['trans_hour'] = pd.to_datetime(chunk['trans_date_trans_time']).dt.hour\n",
    "        chunk['trans_day_of_week'] = pd.to_datetime(chunk['trans_date_trans_time']).dt.dayofweek\n",
    "        \n",
    "        # Example: Scaling numerical features\n",
    "        numerical_features = ['amt', 'lat', 'long', 'city_pop']\n",
    "        chunk[numerical_features] = scaler.fit_transform(chunk[numerical_features])\n",
    "        \n",
    "        # Example: Apply OneHotEncoder to categorical features\n",
    "        categorical_features = ['merchant', 'category', 'gender']\n",
    "        encoded_features = encoder.fit_transform(chunk[categorical_features])\n",
    "        \n",
    "        # Convert to sparse matrix\n",
    "        sparse_data = csr_matrix(encoded_features)\n",
    "        sparse_chunks.append(sparse_data)\n",
    "    \n",
    "    # Concatenate all sparse chunks into a single sparse matrix\n",
    "    final_sparse_matrix = vstack(sparse_chunks)\n",
    "    \n",
    "    return final_sparse_matrix\n",
    "\n",
    "# Example usage\n",
    "file_path = 'fraudTrain.csv'  # Replace with your actual dataset file path\n",
    "chunk_size = 100000  # Adjust based on your system's memory capacity\n",
    "\n",
    "final_sparse_matrix = process_data_chunks(file_path, chunk_size)\n",
    "print(\"Final sparse matrix shape:\", final_sparse_matrix.shape)\n"
   ]
  },
  {
   "cell_type": "code",
   "execution_count": 9,
   "metadata": {},
   "outputs": [],
   "source": [
    "# Example: Train and evaluate a model (Isolation Forest)\n",
    "from sklearn.ensemble import IsolationForest\n",
    "from sklearn.metrics import classification_report, roc_auc_score\n",
    "\n",
    "# Assuming final_sparse_matrix is your processed sparse matrix and is_fraud is your target variable\n",
    "X = final_sparse_matrix\n",
    "y = data['is_fraud']\n",
    "\n",
    "# Train-test split if not already done\n",
    "# Example: Splitting data into training and testing sets\n",
    "from sklearn.model_selection import train_test_split\n",
    "X_train, X_test, y_train, y_test = train_test_split(X, y, test_size=0.2, random_state=42)"
   ]
  },
  {
   "cell_type": "markdown",
   "metadata": {},
   "source": [
    "Without the SMOTE"
   ]
  },
  {
   "cell_type": "code",
   "execution_count": 10,
   "metadata": {},
   "outputs": [
    {
     "name": "stdout",
     "output_type": "stream",
     "text": [
      "Original training dataset shape: Counter({0: 1031354, 1: 5986})\n"
     ]
    },
    {
     "name": "stderr",
     "output_type": "stream",
     "text": [
      "c:\\Users\\smadh\\anaconda3\\Lib\\site-packages\\sklearn\\linear_model\\_logistic.py:458: ConvergenceWarning: lbfgs failed to converge (status=1):\n",
      "STOP: TOTAL NO. of ITERATIONS REACHED LIMIT.\n",
      "\n",
      "Increase the number of iterations (max_iter) or scale the data as shown in:\n",
      "    https://scikit-learn.org/stable/modules/preprocessing.html\n",
      "Please also refer to the documentation for alternative solver options:\n",
      "    https://scikit-learn.org/stable/modules/linear_model.html#logistic-regression\n",
      "  n_iter_i = _check_optimize_result(\n"
     ]
    },
    {
     "name": "stdout",
     "output_type": "stream",
     "text": [
      "              precision    recall  f1-score   support\n",
      "\n",
      "           0       1.00      0.69      0.81    257815\n",
      "           1       0.01      0.70      0.03      1520\n",
      "\n",
      "    accuracy                           0.69    259335\n",
      "   macro avg       0.51      0.69      0.42    259335\n",
      "weighted avg       0.99      0.69      0.81    259335\n",
      "\n",
      "ROC AUC Score: 0.6923751999342654\n"
     ]
    }
   ],
   "source": [
    "from sklearn.model_selection import train_test_split\n",
    "from sklearn.linear_model import LogisticRegression\n",
    "from sklearn.metrics import classification_report, roc_auc_score\n",
    "from collections import Counter\n",
    "# Assuming X_train, X_test, y_train, y_test are your training and test sets\n",
    "print(\"Original training dataset shape:\", Counter(y_train))\n",
    "\n",
    "# Train logistic regression with class weight adjustment\n",
    "model = LogisticRegression(class_weight='balanced', random_state=42)\n",
    "model.fit(X_train, y_train)\n",
    "\n",
    "# Predict on the test set\n",
    "y_pred = model.predict(X_test)\n",
    "\n",
    "# Evaluate the model\n",
    "print(classification_report(y_test, y_pred))\n",
    "print(f'ROC AUC Score: {roc_auc_score(y_test, y_pred)}')\n"
   ]
  },
  {
   "cell_type": "markdown",
   "metadata": {},
   "source": [
    "After Applying the SMOTE"
   ]
  },
  {
   "cell_type": "code",
   "execution_count": 41,
   "metadata": {},
   "outputs": [
    {
     "name": "stderr",
     "output_type": "stream",
     "text": [
      "c:\\Users\\smadh\\anaconda3\\Lib\\site-packages\\sklearn\\preprocessing\\_encoders.py:868: FutureWarning: `sparse` was renamed to `sparse_output` in version 1.2 and will be removed in 1.4. `sparse_output` is ignored unless you leave `sparse` to its default value.\n",
      "  warnings.warn(\n"
     ]
    },
    {
     "name": "stdout",
     "output_type": "stream",
     "text": [
      "Original training dataset shape: Counter({0: 1160274, 1: 6733})\n",
      "Resampled training dataset shape: Counter({0: 1160274, 1: 1160274})\n"
     ]
    },
    {
     "name": "stderr",
     "output_type": "stream",
     "text": [
      "c:\\Users\\smadh\\anaconda3\\Lib\\site-packages\\sklearn\\linear_model\\_logistic.py:458: ConvergenceWarning: lbfgs failed to converge (status=1):\n",
      "STOP: TOTAL NO. of ITERATIONS REACHED LIMIT.\n",
      "\n",
      "Increase the number of iterations (max_iter) or scale the data as shown in:\n",
      "    https://scikit-learn.org/stable/modules/preprocessing.html\n",
      "Please also refer to the documentation for alternative solver options:\n",
      "    https://scikit-learn.org/stable/modules/linear_model.html#logistic-regression\n",
      "  n_iter_i = _check_optimize_result(\n"
     ]
    },
    {
     "name": "stdout",
     "output_type": "stream",
     "text": [
      "              precision    recall  f1-score   support\n",
      "\n",
      "           0       0.79      0.88      0.84   1160274\n",
      "           1       0.87      0.77      0.82   1160274\n",
      "\n",
      "    accuracy                           0.83   2320548\n",
      "   macro avg       0.83      0.83      0.83   2320548\n",
      "weighted avg       0.83      0.83      0.83   2320548\n",
      "\n",
      "ROC AUC Score: 0.8261233984386447\n"
     ]
    }
   ],
   "source": [
    "import pandas as pd\n",
    "from sklearn.preprocessing import StandardScaler, OneHotEncoder\n",
    "from scipy.sparse import csr_matrix, vstack, hstack\n",
    "from sklearn.model_selection import train_test_split\n",
    "from imblearn.over_sampling import SMOTE\n",
    "from sklearn.linear_model import LogisticRegression\n",
    "from sklearn.metrics import classification_report, roc_auc_score\n",
    "from collections import Counter\n",
    "\n",
    "# Function to process data in chunks and convert to sparse matrix\n",
    "def process_data_chunks(file_path, chunk_size, scaler, encoder):\n",
    "    chunks = pd.read_csv(file_path, chunksize=chunk_size)\n",
    "    sparse_chunks = []\n",
    "    \n",
    "    for chunk in chunks:\n",
    "        # Feature engineering\n",
    "        chunk['trans_hour'] = pd.to_datetime(chunk['trans_date_trans_time']).dt.hour\n",
    "        chunk['trans_day_of_week'] = pd.to_datetime(chunk['trans_date_trans_time']).dt.dayofweek\n",
    "        \n",
    "        # Scaling numerical features\n",
    "        numerical_features = ['amt', 'lat', 'long', 'city_pop']\n",
    "        chunk[numerical_features] = scaler.transform(chunk[numerical_features])\n",
    "        \n",
    "        # OneHotEncoding categorical features\n",
    "        categorical_features = ['merchant', 'category', 'gender']\n",
    "        encoded_features = encoder.transform(chunk[categorical_features])\n",
    "        \n",
    "        # Combine numerical and encoded categorical features\n",
    "        sparse_data = csr_matrix(chunk[numerical_features])\n",
    "        combined_data = hstack([sparse_data, encoded_features])\n",
    "        sparse_chunks.append(combined_data)\n",
    "    \n",
    "    # Concatenate all sparse chunks into a single sparse matrix\n",
    "    final_sparse_matrix = vstack(sparse_chunks)\n",
    "    \n",
    "    return final_sparse_matrix\n",
    "\n",
    "# Load initial chunk to fit the scaler and encoder\n",
    "initial_chunk = pd.read_csv('fraudtrain.csv', nrows=100000)\n",
    "initial_chunk['trans_hour'] = pd.to_datetime(initial_chunk['trans_date_trans_time']).dt.hour\n",
    "initial_chunk['trans_day_of_week'] = pd.to_datetime(initial_chunk['trans_date_trans_time']).dt.dayofweek\n",
    "\n",
    "# Initialize and fit scaler and encoder\n",
    "numerical_features = ['amt', 'lat', 'long', 'city_pop']\n",
    "categorical_features = ['merchant', 'category', 'gender']\n",
    "scaler = StandardScaler()\n",
    "encoder = OneHotEncoder(handle_unknown='ignore', sparse=True)\n",
    "scaler.fit(initial_chunk[numerical_features])\n",
    "encoder.fit(initial_chunk[categorical_features])\n",
    "\n",
    "# Process the full dataset in chunks\n",
    "file_path = 'fraudtrain.csv'\n",
    "chunk_size = 100000\n",
    "final_sparse_matrix = process_data_chunks(file_path, chunk_size, scaler, encoder)\n",
    "\n",
    "# Load target variable\n",
    "data = pd.read_csv('fraudtrain.csv', usecols=['is_fraud'])\n",
    "y = data['is_fraud']\n",
    "\n",
    "# Train-test split\n",
    "X_train, X_test, y_train, y_test = train_test_split(final_sparse_matrix, y, test_size=0.1, random_state=42)\n",
    "\n",
    "# Handling imbalanced data with SMOTE\n",
    "print(\"Original training dataset shape:\", Counter(y_train))\n",
    "smote = SMOTE(random_state=42)\n",
    "X_train_res, y_train_res = smote.fit_resample(X_train, y_train)\n",
    "print(\"Resampled training dataset shape:\", Counter(y_train_res))\n",
    "\n",
    "# Train logistic regression\n",
    "model = LogisticRegression(random_state=42)\n",
    "model.fit(X_train_res, y_train_res)\n",
    "\n",
    "# Predict on the test set\n",
    "y_pred = model.predict(X_train_res)\n",
    "\n",
    "# Evaluate the model\n",
    "print(classification_report(y_train_res, y_pred))\n",
    "print(f'ROC AUC Score: {roc_auc_score(y_train_res, y_pred)}')\n"
   ]
  },
  {
   "cell_type": "code",
   "execution_count": 43,
   "metadata": {},
   "outputs": [
    {
     "data": {
      "image/png": "[encoded data removed]",
      "text/plain": [
       "<Figure size 800x600 with 2 Axes>"
      ]
     },
     "metadata": {},
     "output_type": "display_data"
    }
   ],
   "source": [
    "from sklearn.metrics import confusion_matrix\n",
    "import seaborn as sns\n",
    "import matplotlib.pyplot as plt\n",
    "# Generate and plot confusion matrix\n",
    "conf_matrix = confusion_matrix(y_train_res, y_pred)\n",
    "\n",
    "# Plotting the confusion matrix\n",
    "plt.figure(figsize=(8, 6))\n",
    "sns.heatmap(conf_matrix, fmt='d', cmap='Blues', xticklabels=['Not Fraud', 'Fraud'], yticklabels=['Not Fraud', 'Fraud'])\n",
    "plt.xlabel('Predicted')\n",
    "plt.ylabel('Actual')\n",
    "plt.title('Confusion Matrix')\n",
    "plt.show()"
   ]
  },
  {
   "cell_type": "code",
   "execution_count": 17,
   "metadata": {},
   "outputs": [
    {
     "name": "stderr",
     "output_type": "stream",
     "text": [
      "c:\\Users\\smadh\\anaconda3\\Lib\\site-packages\\sklearn\\preprocessing\\_encoders.py:868: FutureWarning: `sparse` was renamed to `sparse_output` in version 1.2 and will be removed in 1.4. `sparse_output` is ignored unless you leave `sparse` to its default value.\n",
      "  warnings.warn(\n"
     ]
    },
    {
     "name": "stdout",
     "output_type": "stream",
     "text": [
      "              precision    recall  f1-score   support\n",
      "\n",
      "           0       1.00      0.87      0.93    553574\n",
      "           1       0.02      0.76      0.04      2145\n",
      "\n",
      "    accuracy                           0.87    555719\n",
      "   macro avg       0.51      0.81      0.49    555719\n",
      "weighted avg       1.00      0.87      0.93    555719\n",
      "\n",
      "ROC AUC Score: 0.8149048897537808\n"
     ]
    }
   ],
   "source": [
    "data = pd.read_csv('fraudTest.csv')\n",
    "y1 = data['is_fraud']\n",
    "file_path = 'fraudtest.csv'\n",
    "chunk_size = 100000\n",
    "numerical_features = ['amt', 'lat', 'long', 'city_pop']\n",
    "categorical_features = ['merchant', 'category', 'gender']\n",
    "scaler = StandardScaler()\n",
    "encoder = OneHotEncoder(handle_unknown='ignore', sparse=True)\n",
    "scaler.fit(initial_chunk[numerical_features])\n",
    "encoder.fit(initial_chunk[categorical_features])\n",
    "X1= process_data_chunks(file_path, chunk_size, scaler, encoder)\n",
    "y_pred = model.predict(X1)\n",
    "\n",
    "# Evaluate the model\n",
    "print(classification_report(y1, y_pred))\n",
    "print(f'ROC AUC Score: {roc_auc_score(y1, y_pred)}')\n",
    "\n"
   ]
  },
  {
   "cell_type": "code",
   "execution_count": null,
   "metadata": {},
   "outputs": [],
   "source": []
  }
 ],
 "metadata": {
  "kernelspec": {
   "display_name": "base",
   "language": "python",
   "name": "python3"
  },
  "language_info": {
   "codemirror_mode": {
    "name": "ipython",
    "version": 3
   },
   "file_extension": ".py",
   "mimetype": "text/x-python",
   "name": "python",
   "nbconvert_exporter": "python",
   "pygments_lexer": "ipython3",
   "version": "3.11.4"
  }
 },
 "nbformat": 4,
 "nbformat_minor": 2
}
